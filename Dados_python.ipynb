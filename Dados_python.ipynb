{
  "nbformat": 4,
  "nbformat_minor": 0,
  "metadata": {
    "colab": {
      "provenance": []
    },
    "kernelspec": {
      "name": "python3",
      "display_name": "Python 3"
    },
    "language_info": {
      "name": "python"
    }
  },
  "cells": [
    {
      "cell_type": "markdown",
      "source": [
        "Laço de repetição para descobrir a frequência de uma coluna."
      ],
      "metadata": {
        "id": "Ya94SHbvq9fO"
      }
    },
    {
      "cell_type": "code",
      "execution_count": null,
      "metadata": {
        "colab": {
          "base_uri": "https://localhost:8080/"
        },
        "id": "owM3iFSrmktS",
        "outputId": "6fec2ac3-6284-4126-967a-c6c542b16cb7"
      },
      "outputs": [
        {
          "output_type": "stream",
          "name": "stdout",
          "text": [
            "{10: 7, 20: 4, 30: 2}\n"
          ]
        }
      ],
      "source": [
        "ID_Product = [10,20,30,10,10,20,10,10,10,10,20,20,30]\n",
        "# Crie um dicionário vazio para armazenar a frequência\n",
        "frequencia = {}\n",
        "for number in ID_Product:\n",
        "  if number in frequencia:\n",
        "   frequencia[number] += 1\n",
        "  else:\n",
        "    frequencia[number] = 1\n",
        "\n",
        "print (frequencia)"
      ]
    },
    {
      "cell_type": "markdown",
      "source": [
        "Agora vamos tratar uma coluna de dados que precisa de um tratamento de dados"
      ],
      "metadata": {
        "id": "EMGXKVoDrYnM"
      }
    },
    {
      "cell_type": "code",
      "source": [
        "ID_Produto = [\n",
        "    74, 95, '106;20;117;128', 135, '70;133', '5;46;36',\n",
        "    '38;12;8;115', 86, 34, '108;30', '88;34;145', 150, 66\n",
        "]\n",
        "\n",
        "# 2. Crie uma lista vazia para armazenar todos os IDs individuais\n",
        "ids_individuais = []\n",
        "\n",
        "#vamos começar por um verificador, se é uma string ou um inteiro\n",
        "\n",
        "# 3. Iterar e normalizar os dados\n",
        "for item in ID_Produto:\n",
        "    # Verifique se o item é uma string (que pode conter ';')\n",
        "    if isinstance(item, str):\n",
        "        # Use o .split(';') para dividir a string em uma lista de strings\n",
        "        partes = item.split(';')\n",
        "        # a função .split(o que vc quer limitar, dividir, separar da string original)\n",
        "        # Adicione cada parte à lista de ids_individuais\n",
        "        for parte in partes:\n",
        "            # Converte a string para int e adiciona à lista\n",
        "            ids_individuais.append(int(parte))\n",
        "    else:\n",
        "        # Se o item já for um número (int), adicione-o diretamente\n",
        "        ids_individuais.append(item)\n",
        "\n",
        "# Imprima a lista de todos os IDs individuais para ver o resultado\n",
        "print(\"Todos os IDs individuais:\", ids_individuais)\n"
      ],
      "metadata": {
        "colab": {
          "base_uri": "https://localhost:8080/"
        },
        "id": "yAtdqtwnrdi6",
        "outputId": "f1e28fcf-0b45-4a02-d7a5-d4c38f09ede0"
      },
      "execution_count": null,
      "outputs": [
        {
          "output_type": "stream",
          "name": "stdout",
          "text": [
            "Todos os IDs individuais: [74, 95, 106, 20, 117, 128, 135, 70, 133, 5, 46, 36, 38, 12, 8, 115, 86, 34, 108, 30, 88, 34, 145, 150, 66]\n"
          ]
        }
      ]
    },
    {
      "cell_type": "markdown",
      "source": [
        "Usar o isinstance() para verificar o tipo de dado (se é int ou str).\n",
        "\n",
        "Usar o split() para dividir as strings."
      ],
      "metadata": {
        "id": "CqV2HbXrHNHB"
      }
    },
    {
      "cell_type": "code",
      "source": [
        "ID_Produto_hifen = [\n",
        "    74, 95, '106-20-117-128', 135, '70-133', '5-46-36',\n",
        "    '38-12-8-115', 86, 34, '108-30', '88-34-145', 150, 66\n",
        "]\n",
        "\n",
        "\n",
        "ids_individuais_hifen = []\n",
        "\n",
        "for item in ID_Produto_hifen:\n",
        "    if isinstance(item, str):\n",
        "        partes = item.split('-')\n",
        "        for parte in partes:\n",
        "            ids_individuais_hifen.append(int(parte))\n",
        "    else:\n",
        "        ids_individuais_hifen.append(item)\n",
        "\n",
        "\n",
        "print(\"Todos os IDs individuais:\", ids_individuais_hifen)"
      ],
      "metadata": {
        "colab": {
          "base_uri": "https://localhost:8080/"
        },
        "id": "HHPFsCvAFHil",
        "outputId": "5a76e876-b0c0-4d76-b177-05843491f730"
      },
      "execution_count": null,
      "outputs": [
        {
          "output_type": "stream",
          "name": "stdout",
          "text": [
            "Todos os IDs individuais: [74, 95, 106, 20, 117, 128, 135, 70, 133, 5, 46, 36, 38, 12, 8, 115, 86, 34, 108, 30, 88, 34, 145, 150, 66]\n"
          ]
        }
      ]
    },
    {
      "cell_type": "code",
      "source": [
        "import pandas as pd\n",
        "import io\n",
        "\n",
        "data = \"\"\"\n",
        "Turma,Nota peso/10 Geral Final,Nota Final por peso da prova\n",
        "Turma 101,5.3,5.6\n",
        "Turma 101,6,6.3\n",
        "Turma 102,7.7,8.05\n",
        "Turma 102,3.3,3.5\n",
        "Turma 101,8.7,9.1\n",
        "Turma 101,5.7,5.95\n",
        "Turma 101,5.3,5.6\n",
        "Turma 101,5.3,5.6\n",
        "Turma 101,7,7.35\n",
        "Turma 102,5.3,5.6\n",
        "Turma 102,4.3,4.55\n",
        "Turma 101,4,4.2\n",
        "Turma 101,9,9.45\n",
        "Turma 102,3,3.15\n",
        "Turma 101,3.7,3.85\n",
        "Turma 101,9.7,10.15\n",
        "Turma 102,4,4.2\n",
        "Turma 101,4.3,4.55\n",
        "Turma 101,7,7.35\n",
        "Turma 102,5,5.25\n",
        "Turma 102,4.7,4.9\n",
        "Turma 101,7.7,8.05\n",
        "Turma 102,5.3,5.6\n",
        "Turma 101,3,3.15\n",
        "Turma 101,7.3,7.7\n",
        "Turma 102,5,5.25\n",
        "Turma 101,5.3,5.6\n",
        "Turma 101,5.3,5.6\n",
        "Turma 101,6,6.3\n",
        "Turma 101,5.7,5.95\n",
        "Turma 101,2,2.1\n",
        "Turma 101,5.3,5.6\n",
        "Turma 102,5,5.25\n",
        "Turma 101,5.7,5.95\n",
        "Turma 102,3.3,3.5\n",
        "Turma 101,4.7,4.9\n",
        "Turma 101,3.3,3.5\n",
        "Turma 101,7.3,7.7\n",
        "\"\"\"\n",
        "\n",
        "df = pd.read_csv(io.StringIO(data))\n",
        "\n",
        "# Limpa os espaços em branco nos nomes das colunas\n",
        "df.columns = df.columns.str.strip()\n",
        "\n",
        "# Limpa os espaços em branco nos valores da coluna 'Turma'\n",
        "df['Turma'] = df['Turma'].str.strip()\n",
        "\n",
        "# Filtra o DataFrame para incluir apenas as linhas da Turma 102\n",
        "turma_102 = df[df['Turma'] == 'Turma 102']\n",
        "\n",
        "# Seleciona apenas a coluna \"Nota peso/10 Geral Final\"\n",
        "nota_geral_102 = turma_102['Nota peso/10 Geral Final']\n",
        "\n",
        "# Exibe o resultado\n",
        "print(nota_geral_102)"
      ],
      "metadata": {
        "colab": {
          "base_uri": "https://localhost:8080/"
        },
        "id": "NKU7Tf7QRqXc",
        "outputId": "f43a4651-3a55-406b-a539-418aca0e4e0c"
      },
      "execution_count": null,
      "outputs": [
        {
          "output_type": "stream",
          "name": "stdout",
          "text": [
            "2     7.7\n",
            "3     3.3\n",
            "9     5.3\n",
            "10    4.3\n",
            "13    3.0\n",
            "16    4.0\n",
            "19    5.0\n",
            "20    4.7\n",
            "22    5.3\n",
            "25    5.0\n",
            "32    5.0\n",
            "34    3.3\n",
            "Name: Nota peso/10 Geral Final, dtype: float64\n"
          ]
        }
      ]
    },
    {
      "cell_type": "code",
      "source": [
        "numbers = [20,40,50,90]\n",
        "cont = len(numbers)\n",
        "print (cont)\n",
        "#A função len conta a quantidade de elementos da minha lista\n",
        "numbers.remove(20)\n",
        "print (numbers)\n",
        "#A função .remove remove um dos itens da minha lista.\n",
        "numbers.append(77)\n",
        "print (numbers)\n",
        "#A função .append adiciona mais um número ao final da minha lista.\n",
        "last_element = numbers[-1]\n",
        "print (last_element)\n",
        "if 77 in numbers:\n",
        "  print(\"Sim, o número 77 está na lista numbers\")\n",
        "if 50 in numbers:\n",
        "  print(\"teste de endentação\")\n",
        "if 20 in numbers:\n",
        "  print(\"Não removeram o 20 da lista?\")\n",
        "\n",
        "#Uso das condicionais com array, é interessante utilizar o in.\n"
      ],
      "metadata": {
        "colab": {
          "base_uri": "https://localhost:8080/"
        },
        "id": "_t2mpcyhhTUg",
        "outputId": "31f430db-de56-4cb1-d3c2-cdd2af2dc531"
      },
      "execution_count": null,
      "outputs": [
        {
          "output_type": "stream",
          "name": "stdout",
          "text": [
            "4\n",
            "[40, 50, 90]\n",
            "[40, 50, 90, 77]\n",
            "77\n",
            "Sim, o número 77 está na lista numbers\n",
            "teste de endentação\n",
            "Não removeram o 20 da lista?\n"
          ]
        }
      ]
    },
    {
      "cell_type": "markdown",
      "source": [
        "notas = [8.5, 9.0, 6.5, 7.0, 10.0, 5.5, 8.0, 7.5]\n",
        "\n",
        "O que fazer:\n",
        "\n",
        "Calcule a soma de todas as notas da lista.\n",
        "\n",
        "Calcule a média da turma (soma das notas / quantidade de notas).\n",
        "\n",
        "Encontre a maior nota na lista.\n",
        "\n",
        "Encontre a menor nota na lista.\n",
        "\n",
        "Imprima os resultados de forma organizada.\n",
        "\n",
        "Saída Esperada:\n",
        "\n",
        "--- Análise das Notas da Turma ---\n",
        "Média da turma: 7.75\n",
        "Maior nota: 10.0\n",
        "Menor nota: 5.5\n",
        "\n",
        "Dica: Python possui funções embutidas que podem te ajudar muito aqui, como sum(), len(), max() e min().\n",
        "\n"
      ],
      "metadata": {
        "id": "m1R8lMFulhGv"
      }
    },
    {
      "cell_type": "code",
      "source": [
        "notas = [8.5, 9.0, 6.5, 7.0, 10.0, 5.5, 8.0, 7.5]\n",
        "soma = sum(notas)\n",
        "element = len(notas)\n",
        "media = soma / element\n",
        "print (f\"A soma de todas as notas da turma é: {soma}\")\n",
        "print (f\"A média da turma é : {media}\")\n",
        "max_note = max(notas)\n",
        "print(f\"A maior nota da turma é : {max_note}\")\n",
        "min_note = min(notas)\n",
        "print (f\"A menor nota da turma é : {min_note}\")"
      ],
      "metadata": {
        "colab": {
          "base_uri": "https://localhost:8080/"
        },
        "id": "2oBiNesklqdB",
        "outputId": "bd59ae97-32ab-4ed8-ea93-7cfedaf41f73"
      },
      "execution_count": null,
      "outputs": [
        {
          "output_type": "stream",
          "name": "stdout",
          "text": [
            "A média da turma é : 7.75\n",
            "A maior nota da turma é : 10.0\n",
            "A menor nota da turma é : 5.5\n"
          ]
        }
      ]
    },
    {
      "cell_type": "markdown",
      "source": [
        "**Exercício 2: Separando Números Pares e Ímpares**\n",
        "Nível: Intermediário\n",
        "\n",
        "Objetivo: Utilizar um laço for e uma condicional if/else para separar os elementos de uma lista em duas novas listas.\n",
        "\n",
        "Descrição:\n",
        "Dada uma lista de números, crie duas novas listas: uma contendo apenas os números pares e outra contendo apenas os números ímpares.\n",
        "\n",
        "`Lista Inicial: numeros = [1, 2, 3, 4, 5, 6, 7, 8, 9, 10, 11, 12, 13, 14, 15]`\n",
        "\n",
        "O que fazer:\n",
        "\n",
        "Crie duas listas vazias, uma chamada pares e outra chamada impares.\n",
        "\n",
        "Use um laço for para percorrer cada número na lista numeros.\n",
        "\n",
        "Dentro do laço, verifique se o número atual é par ou ímpar.\n",
        "\n",
        "Se for par, adicione-o à lista pares.\n",
        "\n",
        "Se for ímpar, adicione-o à lista impares.\n",
        "\n",
        "Ao final do laço, imprima as duas novas listas.\n",
        "\n",
        "Saída Esperada:\n",
        "\n",
        "Lista de números pares: [2, 4, 6, 8, 10, 12, 14]\n",
        "Lista de números ímpares: [1, 3, 5, 7, 9, 11, 13, 15]\n",
        "Dica: Para saber se um número é par, você pode usar o operador de módulo (%). Um número é par se o resto da sua divisão por 2 for zero (numero % 2 == 0)"
      ],
      "metadata": {
        "id": "ejg7xbPwqjDq"
      }
    },
    {
      "cell_type": "code",
      "source": [
        "numbers = [1, 2, 3, 4, 5, 6, 7, 8, 9, 10, 11, 12, 13, 14, 15]\n",
        "parnumbers = []\n",
        "imparnumbers = []\n",
        "for number in numbers:\n",
        "  if number % 2 == 0:\n",
        "   parnumbers.append(number)\n",
        "  else:\n",
        "    imparnumbers.append(number)\n",
        "\n",
        "print(f\" A lista de números pares é {parnumbers}\")\n",
        "print(f\" A lista de números ímpares é {imparnumbers}\")\n"
      ],
      "metadata": {
        "colab": {
          "base_uri": "https://localhost:8080/"
        },
        "id": "ZVeuvTJmqyN5",
        "outputId": "706a0c3a-4bb9-4ef6-b2e6-5966a198d264"
      },
      "execution_count": null,
      "outputs": [
        {
          "output_type": "stream",
          "name": "stdout",
          "text": [
            " A lista de números pares é [2, 4, 6, 8, 10, 12, 14]\n",
            " A lista de números ímpares é [1, 3, 5, 7, 9, 11, 13, 15]\n"
          ]
        }
      ]
    },
    {
      "cell_type": "markdown",
      "source": [
        "**Exercício 3: Contagem de Frequência de Itens**\n",
        "Nível: Desafiador\n",
        "\n",
        "Objetivo: Trabalhar com uma lista de strings para contar quantas vezes cada item único aparece.\n",
        "\n",
        "Descrição:\n",
        "Você tem uma lista que representa uma cesta de compras. Alguns itens aparecem mais de uma vez. Seu objetivo é criar um \"relatório\" que mostre cada item único e quantas vezes ele aparece na lista.\n",
        "\n",
        "`cesta_de_compras = ['maçã', 'banana', 'laranja', 'maçã', 'uva', 'banana', 'maçã', 'pêra', 'laranja']`\n",
        "\n",
        "O que fazer:\n",
        "\n",
        "Primeiro, crie uma lista contendo apenas os itens únicos da cesta_de_compras (sem repetições).\n",
        "\n",
        "Depois, para cada item único que você encontrou, conte quantas vezes ele aparece na lista original (cesta_de_compras).\n",
        "\n",
        "Imprima o nome de cada item único seguido de sua contagem.\n",
        "\n",
        "**Saída Esperada:**\n",
        "\n",
        "```\n",
        "--- Frequência de Itens na Cesta ---\n",
        "maçã: 3\n",
        "banana: 2\n",
        "laranja: 2\n",
        "uva: 1\n",
        "pêra: 1\n",
        "Dica: Para a etapa 2, as listas em Python têm um método muito útil chamado .count() que pode te ajudar. Por exemplo: cesta_de_compras.count('maçã') retornaria 3.\n",
        "```\n",
        "\n"
      ],
      "metadata": {
        "id": "q-LqGZ9Qvk0j"
      }
    },
    {
      "cell_type": "code",
      "source": [
        "from scipy.stats import t\n",
        "# Nível de confiança de 95% significa que alfa = 0.05\n",
        "# O valor t crítico é t(0.025, 19)\n",
        "graus_de_liberdade = 20 - 1\n",
        "valor_t = t.ppf(0.975, graus_de_liberdade)\n",
        "# Ou, de forma equivalente:\n",
        "# valor_t = abs(t.ppf(0.025, graus_de_liberdade))\n",
        "print(f\"O valor crítico t para 95% de confiança e 19 graus de liberdade é: {valor_t:.4f}\")"
      ],
      "metadata": {
        "colab": {
          "base_uri": "https://localhost:8080/"
        },
        "id": "42i-Puk8wB0h",
        "outputId": "adbf86cd-bb0a-44ea-b6c9-2fe689dfb2a3"
      },
      "execution_count": null,
      "outputs": [
        {
          "output_type": "stream",
          "name": "stdout",
          "text": [
            "O valor crítico t para 95% de confiança e 19 graus de liberdade é: 2.0930\n"
          ]
        }
      ]
    },
    {
      "cell_type": "code",
      "source": [
        "def calculate_probability():\n",
        "    print(\"--- Statistics Challenge: Balls in a Bucket ---\")\n",
        "    print(\"Let's start by setting up our bucket of balls.\")\n",
        "\n",
        "    bucket = {}\n",
        "    # Entrando num while-true para coletar a cor. .lower() vai formatar tuda a string para o minúsculo.\n",
        "    while True:\n",
        "        color = input(\"Enter a color name (or 'done' to finish): \").lower()\n",
        "        if color == \"done\":\n",
        "            if len(bucket) == 0: #pensei em utilizar o if not, porém a função len irá funcionar perfeitamente.\n",
        "                print(\"\\nYou need to add at least one ball color!\")\n",
        "                continue\n",
        "\n",
        "            break #Preciso parar o looping qdo o usuário digitar o \"done\"\n",
        "\n",
        "        while True:\n",
        "            try:\n",
        "                quantity = int(input(f\"Enter the quantity for the color '{color}': \")) #Vamos inputar a quantidade de bolinha para a respectiva cor.\n",
        "                if quantity > 0:\n",
        "                    bucket[color] = quantity #Muito importante atribuir no meu dicionário o valor numérico na etiqueta da cor escolhida.\n",
        "                    break\n",
        "                else:\n",
        "                    print(\"Please, enter a number greater than zero.\") #verificação...\n",
        "            except ValueError:\n",
        "                print(\"Invalid input. Please enter an integer.\")\n",
        "\n",
        "    #Composição do meu balde, optei por um laço for e a nvova variável para determinar o total de bolas que tem no meu balde para eu calcular a probabilidade no final.\n",
        "    print(\"\\n--- Your Bucket's Composition ---\")\n",
        "    total_balls = sum(bucket.values())\n",
        "    for color, qty in bucket.items():\n",
        "        print(f\"Balls of color {color}: {qty}\")\n",
        "    print(f\"Total balls in the bucket: {total_balls}\")\n",
        "    print(\"-\" * 33) #Um espaçamento pro meu console ficar bonitinho\n",
        "\n",
        "    # Aqui vamos questionar se o usuário quer a reposição das bolinhas ou não.\n",
        "    with_replacement = None\n",
        "    while  with_replacement is None:\n",
        "        response = input(\"\\nIs the ball returned to the bucket after being drawn? (y/n): \").lower()\n",
        "        if response == 'y':\n",
        "            with_replacement = True\n",
        "        elif response == 'n':\n",
        "            with_replacement = False\n",
        "        else:\n",
        "            print(\"Invalid response. Please enter 'y' for yes or 'n' for no.\")\n",
        "    desired_color = ''\n",
        "    while desired_color not in bucket:\n",
        "\n",
        "        desired_color = input(\"\\nWhat is the color you want to calculate the probability for?: \").lower()\n",
        "        if desired_color not in bucket:\n",
        "            print(f\"The color '{desired_color}' does not exist in the bucket. Please try again.\")\n",
        "    #Bloco para perguntar o numero da tentativa.\n",
        "    attempt = 0\n",
        "    while attempt <= 0:\n",
        "        try:\n",
        "\n",
        "            attempt = int(input(f\"What is the attempt number for the calculation? (e.g., 1 for the first): \"))\n",
        "            if attempt <= 0:\n",
        "                print(\"The attempt number must be greater than zero.\")\n",
        "        except ValueError:\n",
        "            print(\"Invalid input. Please enter an integer.\")\n",
        "\n",
        "\n",
        "    if not with_replacement and attempt > total_balls: #basicamente SE a bola não for devolvida E o número de tentativa for maior que o total de bolas...\n",
        "        print(\"\\n--- Result ---\")\n",
        "        print(\"Calculation impossible!\")\n",
        "        print(f\"You cannot make attempt #{attempt} without replacement, as there are only {total_balls} balls in the bucket.\")\n",
        "        return\n",
        "\n",
        "    balls_of_desired_color = bucket[desired_color]\n",
        "    probability = balls_of_desired_color / total_balls\n",
        "\n",
        "    # Aqui vamos imprimir todos os cálculos.\n",
        "    scenario = \"WITH replacement\" if with_replacement else \"WITHOUT replacement\" #scenario = COM ou SEM REPOSIÇÃO, para lembrar o usuário da sua escolha.\n",
        "    print(f\"\\n--- Result ---\")\n",
        "    print(f\"Scenario: {scenario}\")\n",
        "    print(f\"The probability of drawing a '{desired_color}' ball on the {attempt}th attempt is:\")\n",
        "    print(f\"Fraction: {balls_of_desired_color} / {total_balls}\")\n",
        "    print(f\"Decimal: {probability:.4f}\")\n",
        "    print(f\"Percentage: {probability * 100:.2f}%\")\n",
        "\n",
        "# Executando a função do cáculo da probabilidade.\n",
        "calculate_probability()"
      ],
      "metadata": {
        "colab": {
          "base_uri": "https://localhost:8080/"
        },
        "id": "TjehKHgxFpa-",
        "outputId": "a1345b70-8b21-4c46-d315-498bda9a7e2e"
      },
      "execution_count": null,
      "outputs": [
        {
          "output_type": "stream",
          "name": "stdout",
          "text": [
            "--- Statistics Challenge: Balls in a Bucket ---\n",
            "Let's start by setting up our bucket of balls.\n",
            "Enter a color name (or 'done' to finish): aZul\n",
            "Enter the quantity for the color 'azul': 10\n",
            "Enter a color name (or 'done' to finish): VermeLHO\n",
            "Enter the quantity for the color 'vermelho': 10\n",
            "Enter a color name (or 'done' to finish): done\n",
            "\n",
            "--- Your Bucket's Composition ---\n",
            "Balls of color azul: 10\n",
            "Balls of color vermelho: 10\n",
            "Total balls in the bucket: 20\n",
            "---------------------------------\n",
            "\n",
            "Is the ball returned to the bucket after being drawn? (y/n): n\n",
            "\n",
            "What is the color you want to calculate the probability for?: 4\n",
            "The color '4' does not exist in the bucket. Please try again.\n",
            "\n",
            "What is the color you want to calculate the probability for?: vermelho\n",
            "What is the attempt number for the calculation? (e.g., 1 for the first): 3\n",
            "\n",
            "--- Result ---\n",
            "Scenario: WITHOUT replacement\n",
            "The probability of drawing a 'vermelho' ball on the 3th attempt is:\n",
            "Fraction: 10 / 20\n",
            "Decimal: 0.5000\n",
            "Percentage: 50.00%\n"
          ]
        }
      ]
    }
  ]
}